{
  "cells": [
    {
      "cell_type": "markdown",
      "metadata": {
        "id": "view-in-github",
        "colab_type": "text"
      },
      "source": [
        "<a href=\"https://colab.research.google.com/github/nickbearman/gisruk2025/blob/main/workshop2.ipynb\" target=\"_parent\"><img src=\"https://colab.research.google.com/assets/colab-badge.svg\" alt=\"Open In Colab\"/></a>"
      ]
    },
    {
      "cell_type": "markdown",
      "id": "d93a254c",
      "metadata": {
        "id": "d93a254c"
      },
      "source": [
        "# Urban Morphology with Python: City Structure as Predictor and Target\n",
        "\n",
        "This workshop walks you through assessment of urban form through urban morphometrics - quantitative characterisation of individual elements of urban form and their distribution in space.\n",
        "\n",
        "## Outline\n",
        "\n",
        "- Data retrieval\n",
        "- Data preprocessing\n",
        "    - Removing overlaps from building data\n",
        "    - Simplification of street networks\n",
        "- Measuring urban form\n",
        "    - Simple measurements\n",
        "    - Spatial graphs and their use\n",
        "    - Contextualisation\n",
        "- Urban form as a target - clustering\n",
        "- Urban form as a predictor - regression\n",
        "\n",
        "## Environment setup\n",
        "\n",
        "For instructions on how to setup the environment, please see the `README.md`."
      ]
    },
    {
      "cell_type": "code",
      "source": [
        "pip install momepy scikit-learn numba osmnx geopy matplotlib mapclassify folium clustergram bokeh geoplanar neatnet"
      ],
      "metadata": {
        "colab": {
          "base_uri": "https://localhost:8080/"
        },
        "id": "I1LNhtKw3Y73",
        "outputId": "2ae22ee8-8044-4d1c-9ea9-3eb92f1480dc"
      },
      "id": "I1LNhtKw3Y73",
      "execution_count": 1,
      "outputs": [
        {
          "output_type": "stream",
          "name": "stdout",
          "text": [
            "Collecting momepy\n",
            "  Downloading momepy-0.10.0-py3-none-any.whl.metadata (1.5 kB)\n",
            "Requirement already satisfied: scikit-learn in /usr/local/lib/python3.11/dist-packages (1.6.1)\n",
            "Requirement already satisfied: numba in /usr/local/lib/python3.11/dist-packages (0.60.0)\n",
            "Collecting osmnx\n",
            "  Downloading osmnx-2.0.2-py3-none-any.whl.metadata (4.9 kB)\n",
            "Requirement already satisfied: geopy in /usr/local/lib/python3.11/dist-packages (2.4.1)\n",
            "Requirement already satisfied: matplotlib in /usr/local/lib/python3.11/dist-packages (3.10.0)\n",
            "Collecting mapclassify\n",
            "  Downloading mapclassify-2.8.1-py3-none-any.whl.metadata (2.8 kB)\n",
            "Requirement already satisfied: folium in /usr/local/lib/python3.11/dist-packages (0.19.5)\n",
            "Collecting clustergram\n",
            "  Downloading clustergram-0.8.1-py3-none-any.whl.metadata (710 bytes)\n",
            "Requirement already satisfied: bokeh in /usr/local/lib/python3.11/dist-packages (3.6.3)\n",
            "Collecting geoplanar\n",
            "  Downloading geoplanar-0.4.0-py3-none-any.whl.metadata (2.7 kB)\n",
            "Collecting neatnet\n",
            "  Downloading neatnet-0.1.0-py3-none-any.whl.metadata (4.5 kB)\n",
            "Requirement already satisfied: geopandas>=0.14.0 in /usr/local/lib/python3.11/dist-packages (from momepy) (1.0.1)\n",
            "Collecting libpysal>=4.12.0 (from momepy)\n",
            "  Downloading libpysal-4.13.0-py3-none-any.whl.metadata (4.8 kB)\n",
            "Requirement already satisfied: networkx>=3.2 in /usr/local/lib/python3.11/dist-packages (from momepy) (3.4.2)\n",
            "Requirement already satisfied: packaging in /usr/local/lib/python3.11/dist-packages (from momepy) (24.2)\n",
            "Requirement already satisfied: pandas>=2.0 in /usr/local/lib/python3.11/dist-packages (from momepy) (2.2.2)\n",
            "Requirement already satisfied: shapely>=2 in /usr/local/lib/python3.11/dist-packages (from momepy) (2.1.0)\n",
            "Requirement already satisfied: tqdm>=4.65 in /usr/local/lib/python3.11/dist-packages (from momepy) (4.67.1)\n",
            "Requirement already satisfied: numpy>=1.19.5 in /usr/local/lib/python3.11/dist-packages (from scikit-learn) (2.0.2)\n",
            "Requirement already satisfied: scipy>=1.6.0 in /usr/local/lib/python3.11/dist-packages (from scikit-learn) (1.14.1)\n",
            "Requirement already satisfied: joblib>=1.2.0 in /usr/local/lib/python3.11/dist-packages (from scikit-learn) (1.4.2)\n",
            "Requirement already satisfied: threadpoolctl>=3.1.0 in /usr/local/lib/python3.11/dist-packages (from scikit-learn) (3.6.0)\n",
            "Requirement already satisfied: llvmlite<0.44,>=0.43.0dev0 in /usr/local/lib/python3.11/dist-packages (from numba) (0.43.0)\n",
            "Requirement already satisfied: requests>=2.27 in /usr/local/lib/python3.11/dist-packages (from osmnx) (2.32.3)\n",
            "Requirement already satisfied: geographiclib<3,>=1.52 in /usr/local/lib/python3.11/dist-packages (from geopy) (2.0)\n",
            "Requirement already satisfied: contourpy>=1.0.1 in /usr/local/lib/python3.11/dist-packages (from matplotlib) (1.3.2)\n",
            "Requirement already satisfied: cycler>=0.10 in /usr/local/lib/python3.11/dist-packages (from matplotlib) (0.12.1)\n",
            "Requirement already satisfied: fonttools>=4.22.0 in /usr/local/lib/python3.11/dist-packages (from matplotlib) (4.57.0)\n",
            "Requirement already satisfied: kiwisolver>=1.3.1 in /usr/local/lib/python3.11/dist-packages (from matplotlib) (1.4.8)\n",
            "Requirement already satisfied: pillow>=8 in /usr/local/lib/python3.11/dist-packages (from matplotlib) (11.1.0)\n",
            "Requirement already satisfied: pyparsing>=2.3.1 in /usr/local/lib/python3.11/dist-packages (from matplotlib) (3.2.3)\n",
            "Requirement already satisfied: python-dateutil>=2.7 in /usr/local/lib/python3.11/dist-packages (from matplotlib) (2.8.2)\n",
            "Requirement already satisfied: branca>=0.6.0 in /usr/local/lib/python3.11/dist-packages (from folium) (0.8.1)\n",
            "Requirement already satisfied: jinja2>=2.9 in /usr/local/lib/python3.11/dist-packages (from folium) (3.1.6)\n",
            "Requirement already satisfied: xyzservices in /usr/local/lib/python3.11/dist-packages (from folium) (2025.1.0)\n",
            "Requirement already satisfied: PyYAML>=3.10 in /usr/local/lib/python3.11/dist-packages (from bokeh) (6.0.2)\n",
            "Requirement already satisfied: tornado>=6.2 in /usr/local/lib/python3.11/dist-packages (from bokeh) (6.4.2)\n",
            "Collecting esda (from geoplanar)\n",
            "  Downloading esda-2.7.0-py3-none-any.whl.metadata (2.0 kB)\n",
            "Collecting pandas>=2.0 (from momepy)\n",
            "  Downloading pandas-2.2.3-cp311-cp311-manylinux_2_17_x86_64.manylinux2014_x86_64.whl.metadata (89 kB)\n",
            "\u001b[2K     \u001b[90m━━━━━━━━━━━━━━━━━━━━━━━━━━━━━━━━━━━━━━━━\u001b[0m \u001b[32m89.9/89.9 kB\u001b[0m \u001b[31m2.6 MB/s\u001b[0m eta \u001b[36m0:00:00\u001b[0m\n",
            "\u001b[?25hRequirement already satisfied: pyogrio>=0.7.2 in /usr/local/lib/python3.11/dist-packages (from geopandas>=0.14.0->momepy) (0.10.0)\n",
            "Requirement already satisfied: pyproj>=3.3.0 in /usr/local/lib/python3.11/dist-packages (from geopandas>=0.14.0->momepy) (3.7.1)\n",
            "Requirement already satisfied: MarkupSafe>=2.0 in /usr/local/lib/python3.11/dist-packages (from jinja2>=2.9->folium) (3.0.2)\n",
            "Requirement already satisfied: beautifulsoup4>=4.10 in /usr/local/lib/python3.11/dist-packages (from libpysal>=4.12.0->momepy) (4.13.4)\n",
            "Requirement already satisfied: platformdirs>=2.0.2 in /usr/local/lib/python3.11/dist-packages (from libpysal>=4.12.0->momepy) (4.3.7)\n",
            "Requirement already satisfied: pytz>=2020.1 in /usr/local/lib/python3.11/dist-packages (from pandas>=2.0->momepy) (2025.2)\n",
            "Requirement already satisfied: tzdata>=2022.7 in /usr/local/lib/python3.11/dist-packages (from pandas>=2.0->momepy) (2025.2)\n",
            "Requirement already satisfied: six>=1.5 in /usr/local/lib/python3.11/dist-packages (from python-dateutil>=2.7->matplotlib) (1.17.0)\n",
            "Requirement already satisfied: charset-normalizer<4,>=2 in /usr/local/lib/python3.11/dist-packages (from requests>=2.27->osmnx) (3.4.1)\n",
            "Requirement already satisfied: idna<4,>=2.5 in /usr/local/lib/python3.11/dist-packages (from requests>=2.27->osmnx) (3.10)\n",
            "Requirement already satisfied: urllib3<3,>=1.21.1 in /usr/local/lib/python3.11/dist-packages (from requests>=2.27->osmnx) (2.3.0)\n",
            "Requirement already satisfied: certifi>=2017.4.17 in /usr/local/lib/python3.11/dist-packages (from requests>=2.27->osmnx) (2025.1.31)\n",
            "Requirement already satisfied: soupsieve>1.2 in /usr/local/lib/python3.11/dist-packages (from beautifulsoup4>=4.10->libpysal>=4.12.0->momepy) (2.6)\n",
            "Requirement already satisfied: typing-extensions>=4.0.0 in /usr/local/lib/python3.11/dist-packages (from beautifulsoup4>=4.10->libpysal>=4.12.0->momepy) (4.13.2)\n",
            "Downloading momepy-0.10.0-py3-none-any.whl (1.7 MB)\n",
            "\u001b[2K   \u001b[90m━━━━━━━━━━━━━━━━━━━━━━━━━━━━━━━━━━━━━━━━\u001b[0m \u001b[32m1.7/1.7 MB\u001b[0m \u001b[31m27.1 MB/s\u001b[0m eta \u001b[36m0:00:00\u001b[0m\n",
            "\u001b[?25hDownloading osmnx-2.0.2-py3-none-any.whl (99 kB)\n",
            "\u001b[2K   \u001b[90m━━━━━━━━━━━━━━━━━━━━━━━━━━━━━━━━━━━━━━━━\u001b[0m \u001b[32m99.9/99.9 kB\u001b[0m \u001b[31m7.3 MB/s\u001b[0m eta \u001b[36m0:00:00\u001b[0m\n",
            "\u001b[?25hDownloading mapclassify-2.8.1-py3-none-any.whl (59 kB)\n",
            "\u001b[2K   \u001b[90m━━━━━━━━━━━━━━━━━━━━━━━━━━━━━━━━━━━━━━━━\u001b[0m \u001b[32m59.1/59.1 kB\u001b[0m \u001b[31m4.1 MB/s\u001b[0m eta \u001b[36m0:00:00\u001b[0m\n",
            "\u001b[?25hDownloading clustergram-0.8.1-py3-none-any.whl (15 kB)\n",
            "Downloading geoplanar-0.4.0-py3-none-any.whl (37 kB)\n",
            "Downloading neatnet-0.1.0-py3-none-any.whl (140 kB)\n",
            "\u001b[2K   \u001b[90m━━━━━━━━━━━━━━━━━━━━━━━━━━━━━━━━━━━━━━━━\u001b[0m \u001b[32m140.2/140.2 kB\u001b[0m \u001b[31m9.8 MB/s\u001b[0m eta \u001b[36m0:00:00\u001b[0m\n",
            "\u001b[?25hDownloading esda-2.7.0-py3-none-any.whl (142 kB)\n",
            "\u001b[2K   \u001b[90m━━━━━━━━━━━━━━━━━━━━━━━━━━━━━━━━━━━━━━━━\u001b[0m \u001b[32m142.8/142.8 kB\u001b[0m \u001b[31m10.0 MB/s\u001b[0m eta \u001b[36m0:00:00\u001b[0m\n",
            "\u001b[?25hDownloading libpysal-4.13.0-py3-none-any.whl (2.8 MB)\n",
            "\u001b[2K   \u001b[90m━━━━━━━━━━━━━━━━━━━━━━━━━━━━━━━━━━━━━━━━\u001b[0m \u001b[32m2.8/2.8 MB\u001b[0m \u001b[31m75.1 MB/s\u001b[0m eta \u001b[36m0:00:00\u001b[0m\n",
            "\u001b[?25hDownloading pandas-2.2.3-cp311-cp311-manylinux_2_17_x86_64.manylinux2014_x86_64.whl (13.1 MB)\n",
            "\u001b[2K   \u001b[90m━━━━━━━━━━━━━━━━━━━━━━━━━━━━━━━━━━━━━━━━\u001b[0m \u001b[32m13.1/13.1 MB\u001b[0m \u001b[31m106.2 MB/s\u001b[0m eta \u001b[36m0:00:00\u001b[0m\n",
            "\u001b[?25hInstalling collected packages: pandas, mapclassify, clustergram, osmnx, libpysal, momepy, esda, neatnet, geoplanar\n",
            "  Attempting uninstall: pandas\n",
            "    Found existing installation: pandas 2.2.2\n",
            "    Uninstalling pandas-2.2.2:\n",
            "      Successfully uninstalled pandas-2.2.2\n",
            "\u001b[31mERROR: pip's dependency resolver does not currently take into account all the packages that are installed. This behaviour is the source of the following dependency conflicts.\n",
            "google-colab 1.0.0 requires pandas==2.2.2, but you have pandas 2.2.3 which is incompatible.\u001b[0m\u001b[31m\n",
            "\u001b[0mSuccessfully installed clustergram-0.8.1 esda-2.7.0 geoplanar-0.4.0 libpysal-4.13.0 mapclassify-2.8.1 momepy-0.10.0 neatnet-0.1.0 osmnx-2.0.2 pandas-2.2.3\n"
          ]
        }
      ]
    },
    {
      "cell_type": "code",
      "execution_count": 2,
      "id": "73ed3d9b",
      "metadata": {
        "id": "73ed3d9b"
      },
      "outputs": [],
      "source": [
        "import geopandas\n",
        "import geoplanar\n",
        "import libpysal\n",
        "import matplotlib.pyplot as plt\n",
        "import momepy\n",
        "import neatnet\n",
        "import osmnx\n",
        "import pandas\n",
        "import pandas as pd\n",
        "from bokeh.io import output_notebook\n",
        "from bokeh.plotting import show\n",
        "from clustergram import Clustergram\n",
        "from sklearn.linear_model import LinearRegression\n",
        "\n",
        "output_notebook()"
      ]
    },
    {
      "cell_type": "markdown",
      "id": "490b4767",
      "metadata": {
        "id": "490b4767"
      },
      "source": [
        "Pick a place, ideally a town with a good coverage in OpenStreetMap and its local CRS."
      ]
    },
    {
      "cell_type": "code",
      "execution_count": 3,
      "id": "4e4896be",
      "metadata": {
        "id": "4e4896be"
      },
      "outputs": [],
      "source": [
        "place = \"Bath, England\"\n",
        "local_crs = 27700"
      ]
    },
    {
      "cell_type": "markdown",
      "id": "fb365310",
      "metadata": {
        "id": "fb365310"
      },
      "source": [
        "We can interactively explore the place we just selected."
      ]
    },
    {
      "cell_type": "code",
      "execution_count": 4,
      "id": "88a9a453",
      "metadata": {
        "colab": {
          "base_uri": "https://localhost:8080/",
          "height": 711
        },
        "id": "88a9a453",
        "outputId": "53b6bdc1-8770-48de-c36d-f2f6800e46a6"
      },
      "outputs": [
        {
          "output_type": "execute_result",
          "data": {
            "text/plain": [
              "<folium.folium.Map at 0x781b284a0890>"
            ],
            "text/html": [
              "<div style=\"width:100%;\"><div style=\"position:relative;width:100%;height:0;padding-bottom:60%;\"><span style=\"color:#565656\">Make this Notebook Trusted to load map: File -> Trust Notebook</span><iframe srcdoc=\"&lt;!DOCTYPE html&gt;\n",
              "&lt;html&gt;\n",
              "&lt;head&gt;\n",
              "    \n",
              "    &lt;meta http-equiv=&quot;content-type&quot; content=&quot;text/html; charset=UTF-8&quot; /&gt;\n",
              "    \n",
              "        &lt;script&gt;\n",
              "            L_NO_TOUCH = false;\n",
              "            L_DISABLE_3D = false;\n",
              "        &lt;/script&gt;\n",
              "    \n",
              "    &lt;style&gt;html, body {width: 100%;height: 100%;margin: 0;padding: 0;}&lt;/style&gt;\n",
              "    &lt;style&gt;#map {position:absolute;top:0;bottom:0;right:0;left:0;}&lt;/style&gt;\n",
              "    &lt;script src=&quot;https://cdn.jsdelivr.net/npm/leaflet@1.9.3/dist/leaflet.js&quot;&gt;&lt;/script&gt;\n",
              "    &lt;script src=&quot;https://code.jquery.com/jquery-3.7.1.min.js&quot;&gt;&lt;/script&gt;\n",
              "    &lt;script src=&quot;https://cdn.jsdelivr.net/npm/bootstrap@5.2.2/dist/js/bootstrap.bundle.min.js&quot;&gt;&lt;/script&gt;\n",
              "    &lt;script src=&quot;https://cdnjs.cloudflare.com/ajax/libs/Leaflet.awesome-markers/2.0.2/leaflet.awesome-markers.js&quot;&gt;&lt;/script&gt;\n",
              "    &lt;link rel=&quot;stylesheet&quot; href=&quot;https://cdn.jsdelivr.net/npm/leaflet@1.9.3/dist/leaflet.css&quot;/&gt;\n",
              "    &lt;link rel=&quot;stylesheet&quot; href=&quot;https://cdn.jsdelivr.net/npm/bootstrap@5.2.2/dist/css/bootstrap.min.css&quot;/&gt;\n",
              "    &lt;link rel=&quot;stylesheet&quot; href=&quot;https://netdna.bootstrapcdn.com/bootstrap/3.0.0/css/bootstrap-glyphicons.css&quot;/&gt;\n",
              "    &lt;link rel=&quot;stylesheet&quot; href=&quot;https://cdn.jsdelivr.net/npm/@fortawesome/fontawesome-free@6.2.0/css/all.min.css&quot;/&gt;\n",
              "    &lt;link rel=&quot;stylesheet&quot; href=&quot;https://cdnjs.cloudflare.com/ajax/libs/Leaflet.awesome-markers/2.0.2/leaflet.awesome-markers.css&quot;/&gt;\n",
              "    &lt;link rel=&quot;stylesheet&quot; href=&quot;https://cdn.jsdelivr.net/gh/python-visualization/folium/folium/templates/leaflet.awesome.rotate.min.css&quot;/&gt;\n",
              "    \n",
              "            &lt;meta name=&quot;viewport&quot; content=&quot;width=device-width,\n",
              "                initial-scale=1.0, maximum-scale=1.0, user-scalable=no&quot; /&gt;\n",
              "            &lt;style&gt;\n",
              "                #map_87d90e3c906d8b80e62ef5be127e4b46 {\n",
              "                    position: relative;\n",
              "                    width: 100.0%;\n",
              "                    height: 100.0%;\n",
              "                    left: 0.0%;\n",
              "                    top: 0.0%;\n",
              "                }\n",
              "                .leaflet-container { font-size: 1rem; }\n",
              "            &lt;/style&gt;\n",
              "        \n",
              "    \n",
              "                    &lt;style&gt;\n",
              "                        .foliumtooltip {\n",
              "                            \n",
              "                        }\n",
              "                       .foliumtooltip table{\n",
              "                            margin: auto;\n",
              "                        }\n",
              "                        .foliumtooltip tr{\n",
              "                            text-align: left;\n",
              "                        }\n",
              "                        .foliumtooltip th{\n",
              "                            padding: 2px; padding-right: 8px;\n",
              "                        }\n",
              "                    &lt;/style&gt;\n",
              "            \n",
              "&lt;/head&gt;\n",
              "&lt;body&gt;\n",
              "    \n",
              "    \n",
              "            &lt;div class=&quot;folium-map&quot; id=&quot;map_87d90e3c906d8b80e62ef5be127e4b46&quot; &gt;&lt;/div&gt;\n",
              "        \n",
              "&lt;/body&gt;\n",
              "&lt;script&gt;\n",
              "    \n",
              "    \n",
              "            var map_87d90e3c906d8b80e62ef5be127e4b46 = L.map(\n",
              "                &quot;map_87d90e3c906d8b80e62ef5be127e4b46&quot;,\n",
              "                {\n",
              "                    center: [51.3813864, -2.3596963],\n",
              "                    crs: L.CRS.EPSG3857,\n",
              "                    ...{\n",
              "  &quot;zoom&quot;: 10,\n",
              "  &quot;zoomControl&quot;: true,\n",
              "  &quot;preferCanvas&quot;: false,\n",
              "}\n",
              "\n",
              "                }\n",
              "            );\n",
              "            L.control.scale().addTo(map_87d90e3c906d8b80e62ef5be127e4b46);\n",
              "\n",
              "            \n",
              "\n",
              "        \n",
              "    \n",
              "            var tile_layer_9886555325b5881af933dea47799b019 = L.tileLayer(\n",
              "                &quot;https://tile.openstreetmap.org/{z}/{x}/{y}.png&quot;,\n",
              "                {\n",
              "  &quot;minZoom&quot;: 0,\n",
              "  &quot;maxZoom&quot;: 19,\n",
              "  &quot;maxNativeZoom&quot;: 19,\n",
              "  &quot;noWrap&quot;: false,\n",
              "  &quot;attribution&quot;: &quot;\\u0026copy; \\u003ca href=\\&quot;https://www.openstreetmap.org/copyright\\&quot;\\u003eOpenStreetMap\\u003c/a\\u003e contributors&quot;,\n",
              "  &quot;subdomains&quot;: &quot;abc&quot;,\n",
              "  &quot;detectRetina&quot;: false,\n",
              "  &quot;tms&quot;: false,\n",
              "  &quot;opacity&quot;: 1,\n",
              "}\n",
              "\n",
              "            );\n",
              "        \n",
              "    \n",
              "            tile_layer_9886555325b5881af933dea47799b019.addTo(map_87d90e3c906d8b80e62ef5be127e4b46);\n",
              "        \n",
              "    \n",
              "            map_87d90e3c906d8b80e62ef5be127e4b46.fitBounds(\n",
              "                [[51.3813864, -2.3596963], [51.3813864, -2.3596963]],\n",
              "                {}\n",
              "            );\n",
              "        \n",
              "    \n",
              "        function geo_json_c76f4b4ae337fb14704972c43201d27b_styler(feature) {\n",
              "            switch(feature.id) {\n",
              "                default:\n",
              "                    return {&quot;fillOpacity&quot;: 0.5, &quot;weight&quot;: 2};\n",
              "            }\n",
              "        }\n",
              "        function geo_json_c76f4b4ae337fb14704972c43201d27b_highlighter(feature) {\n",
              "            switch(feature.id) {\n",
              "                default:\n",
              "                    return {&quot;fillOpacity&quot;: 0.75};\n",
              "            }\n",
              "        }\n",
              "        function geo_json_c76f4b4ae337fb14704972c43201d27b_pointToLayer(feature, latlng) {\n",
              "            var opts = {&quot;bubblingMouseEvents&quot;: true, &quot;color&quot;: &quot;#3388ff&quot;, &quot;dashArray&quot;: null, &quot;dashOffset&quot;: null, &quot;fill&quot;: true, &quot;fillColor&quot;: &quot;#3388ff&quot;, &quot;fillOpacity&quot;: 0.2, &quot;fillRule&quot;: &quot;evenodd&quot;, &quot;lineCap&quot;: &quot;round&quot;, &quot;lineJoin&quot;: &quot;round&quot;, &quot;opacity&quot;: 1.0, &quot;radius&quot;: 2, &quot;stroke&quot;: true, &quot;weight&quot;: 3};\n",
              "            \n",
              "            let style = geo_json_c76f4b4ae337fb14704972c43201d27b_styler(feature)\n",
              "            Object.assign(opts, style)\n",
              "            \n",
              "            return new L.CircleMarker(latlng, opts)\n",
              "        }\n",
              "\n",
              "        function geo_json_c76f4b4ae337fb14704972c43201d27b_onEachFeature(feature, layer) {\n",
              "            layer.on({\n",
              "                mouseout: function(e) {\n",
              "                    if(typeof e.target.setStyle === &quot;function&quot;){\n",
              "                            geo_json_c76f4b4ae337fb14704972c43201d27b.resetStyle(e.target);\n",
              "                    }\n",
              "                },\n",
              "                mouseover: function(e) {\n",
              "                    if(typeof e.target.setStyle === &quot;function&quot;){\n",
              "                        const highlightStyle = geo_json_c76f4b4ae337fb14704972c43201d27b_highlighter(e.target.feature)\n",
              "                        e.target.setStyle(highlightStyle);\n",
              "                    }\n",
              "                },\n",
              "            });\n",
              "        };\n",
              "        var geo_json_c76f4b4ae337fb14704972c43201d27b = L.geoJson(null, {\n",
              "                onEachFeature: geo_json_c76f4b4ae337fb14704972c43201d27b_onEachFeature,\n",
              "            \n",
              "                style: geo_json_c76f4b4ae337fb14704972c43201d27b_styler,\n",
              "                pointToLayer: geo_json_c76f4b4ae337fb14704972c43201d27b_pointToLayer,\n",
              "            ...{\n",
              "}\n",
              "        });\n",
              "\n",
              "        function geo_json_c76f4b4ae337fb14704972c43201d27b_add (data) {\n",
              "            geo_json_c76f4b4ae337fb14704972c43201d27b\n",
              "                .addData(data);\n",
              "        }\n",
              "            geo_json_c76f4b4ae337fb14704972c43201d27b_add({&quot;bbox&quot;: [-2.3596963, 51.3813864, -2.3596963, 51.3813864], &quot;features&quot;: [{&quot;bbox&quot;: [-2.3596963, 51.3813864, -2.3596963, 51.3813864], &quot;geometry&quot;: {&quot;coordinates&quot;: [-2.3596963, 51.3813864], &quot;type&quot;: &quot;Point&quot;}, &quot;id&quot;: &quot;0&quot;, &quot;properties&quot;: {&quot;address&quot;: &quot;Bath, Bath and North East Somerset, West of England, England, United Kingdom&quot;}, &quot;type&quot;: &quot;Feature&quot;}], &quot;type&quot;: &quot;FeatureCollection&quot;});\n",
              "\n",
              "        \n",
              "    \n",
              "    geo_json_c76f4b4ae337fb14704972c43201d27b.bindTooltip(\n",
              "    function(layer){\n",
              "    let div = L.DomUtil.create(&#x27;div&#x27;);\n",
              "    \n",
              "    let handleObject = feature=&gt;typeof(feature)==&#x27;object&#x27; ? JSON.stringify(feature) : feature;\n",
              "    let fields = [&quot;address&quot;];\n",
              "    let aliases = [&quot;address&quot;];\n",
              "    let table = &#x27;&lt;table&gt;&#x27; +\n",
              "        String(\n",
              "        fields.map(\n",
              "        (v,i)=&gt;\n",
              "        `&lt;tr&gt;\n",
              "            &lt;th&gt;${aliases[i]}&lt;/th&gt;\n",
              "            \n",
              "            &lt;td&gt;${handleObject(layer.feature.properties[v])}&lt;/td&gt;\n",
              "        &lt;/tr&gt;`).join(&#x27;&#x27;))\n",
              "    +&#x27;&lt;/table&gt;&#x27;;\n",
              "    div.innerHTML=table;\n",
              "    \n",
              "    return div\n",
              "    }\n",
              "    ,{\n",
              "  &quot;sticky&quot;: true,\n",
              "  &quot;className&quot;: &quot;foliumtooltip&quot;,\n",
              "});\n",
              "                     \n",
              "    \n",
              "            geo_json_c76f4b4ae337fb14704972c43201d27b.addTo(map_87d90e3c906d8b80e62ef5be127e4b46);\n",
              "        \n",
              "&lt;/script&gt;\n",
              "&lt;/html&gt;\" style=\"position:absolute;width:100%;height:100%;left:0;top:0;border:none !important;\" allowfullscreen webkitallowfullscreen mozallowfullscreen></iframe></div></div>"
            ]
          },
          "metadata": {},
          "execution_count": 4
        }
      ],
      "source": [
        "place_geom = geopandas.tools.geocode(\n",
        "    place, provider=\"nominatim\", user_agent=\"gisruk2025-workshop\"\n",
        ")\n",
        "place_geom.explore()"
      ]
    },
    {
      "cell_type": "markdown",
      "id": "302887d3",
      "metadata": {
        "id": "302887d3"
      },
      "source": [
        "## Input data\n",
        "\n",
        "We can use ``OSMnx`` to quickly download data from OpenStreetMap."
      ]
    },
    {
      "cell_type": "markdown",
      "id": "e07df34b",
      "metadata": {
        "id": "e07df34b"
      },
      "source": [
        "### Buildings"
      ]
    },
    {
      "cell_type": "code",
      "execution_count": null,
      "id": "ed9876fc",
      "metadata": {
        "id": "ed9876fc"
      },
      "outputs": [],
      "source": [
        "buildings = osmnx.features_from_place(place, tags={\"building\": True})\n",
        "buildings.head()"
      ]
    },
    {
      "cell_type": "markdown",
      "id": "ad87f21c",
      "metadata": {
        "id": "ad87f21c"
      },
      "source": [
        "The OSM input may need a bit of cleaning to ensure only proper polygons are kept."
      ]
    },
    {
      "cell_type": "code",
      "execution_count": null,
      "id": "7d0d4d78",
      "metadata": {
        "id": "7d0d4d78"
      },
      "outputs": [],
      "source": [
        "buildings.geom_type.value_counts()"
      ]
    },
    {
      "cell_type": "code",
      "execution_count": null,
      "id": "25986e67",
      "metadata": {
        "id": "25986e67"
      },
      "outputs": [],
      "source": [
        "buildings = buildings[buildings.geom_type == \"Polygon\"].reset_index(drop=True)"
      ]
    },
    {
      "cell_type": "markdown",
      "id": "d57bb146",
      "metadata": {
        "id": "d57bb146"
      },
      "source": [
        "And we should re-project the data from WGS84 to the local projection in meters (momepy default values assume meters not feet or degrees). We will also drop unnecessary columns."
      ]
    },
    {
      "cell_type": "code",
      "execution_count": null,
      "id": "8f9ff20c",
      "metadata": {
        "id": "8f9ff20c"
      },
      "outputs": [],
      "source": [
        "buildings = buildings[[\"geometry\"]].to_crs(local_crs)\n",
        "buildings.head()"
      ]
    },
    {
      "cell_type": "markdown",
      "id": "fcd656a7",
      "metadata": {
        "id": "fcd656a7"
      },
      "source": [
        "#### Topology\n",
        "\n",
        "Buildings shall form a valid polygonal coverage - neighbouring buildings are edge-matched and there are no overlaps. Ideally, there should be no tiny (sliver) gaps between the polygons either but fixing that is beyond the scope of this workshop. Today, we will focus on overlaps only.\n",
        "\n",
        "An easy check if it is the case can be done via `geoplanar`, a package aimed at planarity enforcment and validation."
      ]
    },
    {
      "cell_type": "code",
      "execution_count": null,
      "id": "1204d4e5",
      "metadata": {
        "id": "1204d4e5"
      },
      "outputs": [],
      "source": [
        "i, j = geoplanar.overlaps(buildings.geometry)"
      ]
    },
    {
      "cell_type": "markdown",
      "id": "e146b003",
      "metadata": {
        "id": "e146b003"
      },
      "source": [
        "We can locate the buildings violating the coverage expectations."
      ]
    },
    {
      "cell_type": "code",
      "execution_count": null,
      "id": "480631c4",
      "metadata": {
        "id": "480631c4"
      },
      "outputs": [],
      "source": [
        "buildings.iloc[i].explore(tiles=\"cartodb positron\", max_zoom=50, prefer_canvas=True)"
      ]
    },
    {
      "cell_type": "markdown",
      "id": "1614e4b4",
      "metadata": {
        "id": "1614e4b4"
      },
      "source": [
        "#### Coverage enforcement\n",
        "\n",
        "First, we can trip overlaps. By default, the largest polygon is trimmed."
      ]
    },
    {
      "cell_type": "code",
      "execution_count": null,
      "id": "4bdf55ef",
      "metadata": {
        "id": "4bdf55ef"
      },
      "outputs": [],
      "source": [
        "buildings = geoplanar.trim_overlaps(buildings, strategy=\"largest\")"
      ]
    },
    {
      "cell_type": "markdown",
      "id": "99f8a6f4",
      "metadata": {
        "id": "99f8a6f4"
      },
      "source": [
        "Let's see if there are any remaining."
      ]
    },
    {
      "cell_type": "code",
      "execution_count": null,
      "id": "c2169299",
      "metadata": {
        "id": "c2169299"
      },
      "outputs": [],
      "source": [
        "geoplanar.overlaps(buildings.geometry).shape"
      ]
    },
    {
      "cell_type": "markdown",
      "id": "05f12228",
      "metadata": {
        "id": "05f12228"
      },
      "source": [
        "Try another run, this time trimming the smallest."
      ]
    },
    {
      "cell_type": "code",
      "execution_count": null,
      "id": "6d2493da",
      "metadata": {
        "id": "6d2493da"
      },
      "outputs": [],
      "source": [
        "buildings = geoplanar.trim_overlaps(buildings, strategy=\"smallest\")"
      ]
    },
    {
      "cell_type": "markdown",
      "id": "dfd0f750",
      "metadata": {
        "id": "dfd0f750"
      },
      "source": [
        "And the outcome."
      ]
    },
    {
      "cell_type": "code",
      "execution_count": null,
      "id": "34703f22",
      "metadata": {
        "id": "34703f22"
      },
      "outputs": [],
      "source": [
        "geoplanar.overlaps(buildings.geometry).shape"
      ]
    },
    {
      "cell_type": "markdown",
      "id": "c2591abf",
      "metadata": {
        "id": "c2591abf"
      },
      "source": [
        "Much better. Momepy is relatively robust to small imprecisions, so we can go ahead."
      ]
    },
    {
      "cell_type": "markdown",
      "id": "8ca3a61b",
      "metadata": {
        "id": "8ca3a61b"
      },
      "source": [
        "### Streets\n",
        "\n",
        "Similar operations are done with streets."
      ]
    },
    {
      "cell_type": "code",
      "execution_count": null,
      "id": "3e2bfc20",
      "metadata": {
        "id": "3e2bfc20"
      },
      "outputs": [],
      "source": [
        "osm_graph = osmnx.graph_from_place(place, network_type=\"drive\")\n",
        "osm_graph = osmnx.projection.project_graph(osm_graph, to_crs=local_crs)\n",
        "streets = osmnx.graph_to_gdfs(\n",
        "    osmnx.convert.to_undirected(osm_graph),\n",
        "    nodes=False,\n",
        "    edges=True,\n",
        "    node_geometry=False,\n",
        "    fill_edge_geometry=True,\n",
        ").reset_index(drop=True)\n",
        "streets.head()"
      ]
    },
    {
      "cell_type": "markdown",
      "id": "3a2c0ef1",
      "metadata": {
        "id": "3a2c0ef1"
      },
      "source": [
        "Streets pre-processing is trickier as there are a lot of complicated cases that need to be simplified to turn transportation network into a morphological one. Luckliy, the `neatnet` package should solve this automagically for us. But first, check the current state, together with `neatnet`'s interpretation of what needs fixing."
      ]
    },
    {
      "cell_type": "code",
      "execution_count": null,
      "id": "9dee4b91",
      "metadata": {
        "id": "9dee4b91"
      },
      "outputs": [],
      "source": [
        "ax = streets.explore(tiles=\"cartodb positron\")\n",
        "neatnet.get_artifacts(streets, threshold_fallback=7, exclusion_mask=buildings.geometry)[\n",
        "    0\n",
        "].explore(m=ax, color=\"red\")"
      ]
    },
    {
      "cell_type": "markdown",
      "id": "c28ca1a2",
      "metadata": {
        "id": "c28ca1a2"
      },
      "source": [
        "We can let `neatnet` fix these."
      ]
    },
    {
      "cell_type": "code",
      "execution_count": null,
      "id": "22cc15f1",
      "metadata": {
        "id": "22cc15f1"
      },
      "outputs": [],
      "source": [
        "streets_neat = neatnet.neatify(streets, exclusion_mask=buildings.geometry)"
      ]
    },
    {
      "cell_type": "markdown",
      "id": "32ab32d0",
      "metadata": {
        "id": "32ab32d0"
      },
      "source": [
        "And check the outcome."
      ]
    },
    {
      "cell_type": "code",
      "execution_count": null,
      "id": "2a5c599b",
      "metadata": {
        "id": "2a5c599b"
      },
      "outputs": [],
      "source": [
        "m = streets.explore(tiles=\"cartodb positron\", color=\"red\")\n",
        "streets_neat.explore(m=m)"
      ]
    },
    {
      "cell_type": "code",
      "execution_count": null,
      "id": "f781dcf1",
      "metadata": {
        "id": "f781dcf1"
      },
      "outputs": [],
      "source": [
        "streets = streets_neat[[\"geometry\"]].copy()"
      ]
    },
    {
      "cell_type": "markdown",
      "id": "7c81d9da",
      "metadata": {
        "id": "7c81d9da"
      },
      "source": [
        "## Tessellation\n",
        "\n",
        "We still lack a spatial unit, so let's generate morphological tessellation."
      ]
    },
    {
      "cell_type": "code",
      "execution_count": null,
      "id": "c6cd5b8b",
      "metadata": {
        "id": "c6cd5b8b"
      },
      "outputs": [],
      "source": [
        "limit = momepy.buffered_limit(buildings, 100)\n",
        "tessellation = momepy.morphological_tessellation(buildings, clip=limit)"
      ]
    },
    {
      "cell_type": "markdown",
      "id": "90c9d02e",
      "metadata": {
        "id": "90c9d02e"
      },
      "source": [
        "OpenStreetMap data are often problematic due to low quality of some polygons. If some collapse, we get a mismatch between the length of buildings and the length of polygons."
      ]
    },
    {
      "cell_type": "code",
      "execution_count": null,
      "id": "0ef613b9",
      "metadata": {
        "id": "0ef613b9"
      },
      "outputs": [],
      "source": [
        "collapsed, _ = momepy.verify_tessellation(tessellation, buildings)"
      ]
    },
    {
      "cell_type": "markdown",
      "id": "d8a74c78",
      "metadata": {
        "id": "d8a74c78"
      },
      "source": [
        "Better to drop affected buildings and re-create tessellation."
      ]
    },
    {
      "cell_type": "code",
      "execution_count": null,
      "id": "dec921dd",
      "metadata": {
        "id": "dec921dd"
      },
      "outputs": [],
      "source": [
        "buildings = buildings.drop(collapsed).copy()\n",
        "tessellation = momepy.morphological_tessellation(buildings, clip=limit)"
      ]
    },
    {
      "cell_type": "markdown",
      "id": "e29b658f",
      "metadata": {
        "id": "e29b658f"
      },
      "source": [
        "The outcome may be a bit too heavy for an interactive visualisation, but let's try."
      ]
    },
    {
      "cell_type": "code",
      "execution_count": null,
      "id": "e32d56a1",
      "metadata": {
        "id": "e32d56a1"
      },
      "outputs": [],
      "source": [
        "tessellation.geometry.explore(prefer_canvas=True)"
      ]
    },
    {
      "cell_type": "markdown",
      "id": "f2f1b65f",
      "metadata": {
        "id": "f2f1b65f"
      },
      "source": [
        "### Link streets\n",
        "\n",
        "Link unique IDs of streets to buildings and tessellation cells based on the nearest neighbor join."
      ]
    },
    {
      "cell_type": "code",
      "execution_count": null,
      "id": "3a763a94",
      "metadata": {
        "id": "3a763a94"
      },
      "outputs": [],
      "source": [
        "buildings[\"street_index\"] = momepy.get_nearest_street(\n",
        "    buildings, streets, max_distance=100\n",
        ")\n",
        "buildings"
      ]
    },
    {
      "cell_type": "markdown",
      "id": "32542ca5",
      "metadata": {
        "id": "32542ca5"
      },
      "source": [
        "Aattach the network index to the tessellation as well."
      ]
    },
    {
      "cell_type": "code",
      "execution_count": null,
      "id": "3eb5eb93",
      "metadata": {
        "id": "3eb5eb93"
      },
      "outputs": [],
      "source": [
        "tessellation[\"street_index\"] = buildings[\"street_index\"]"
      ]
    },
    {
      "cell_type": "markdown",
      "id": "d77acafa",
      "metadata": {
        "id": "d77acafa"
      },
      "source": [
        "## Measure\n",
        "\n",
        "Measure individual morphometric characters. For details see the User Guide and the API reference."
      ]
    },
    {
      "cell_type": "markdown",
      "id": "c38062f1",
      "metadata": {
        "id": "c38062f1"
      },
      "source": [
        "### Dimensions"
      ]
    },
    {
      "cell_type": "code",
      "execution_count": null,
      "id": "c99596dd",
      "metadata": {
        "id": "c99596dd"
      },
      "outputs": [],
      "source": [
        "buildings[\"building_area\"] = buildings.area\n",
        "tessellation[\"tess_area\"] = tessellation.area\n",
        "streets[\"length\"] = streets.length"
      ]
    },
    {
      "cell_type": "markdown",
      "id": "3a75e099",
      "metadata": {
        "id": "3a75e099"
      },
      "source": [
        "### Shape"
      ]
    },
    {
      "cell_type": "code",
      "execution_count": null,
      "id": "f6fe32de",
      "metadata": {
        "id": "f6fe32de"
      },
      "outputs": [],
      "source": [
        "buildings[\"eri\"] = momepy.equivalent_rectangular_index(buildings)\n",
        "buildings[\"elongation\"] = momepy.elongation(buildings)\n",
        "tessellation[\"convexity\"] = momepy.convexity(tessellation)\n",
        "streets[\"linearity\"] = momepy.linearity(streets)"
      ]
    },
    {
      "cell_type": "code",
      "execution_count": null,
      "id": "241dd90a",
      "metadata": {
        "id": "241dd90a"
      },
      "outputs": [],
      "source": [
        "fig, ax = plt.subplots(1, 2, figsize=(24, 12))\n",
        "\n",
        "buildings.plot(\"eri\", ax=ax[0], scheme=\"natural_breaks\", legend=True)\n",
        "buildings.plot(\"elongation\", ax=ax[1], scheme=\"natural_breaks\", legend=True)\n",
        "\n",
        "ax[0].set_axis_off()\n",
        "ax[1].set_axis_off()"
      ]
    },
    {
      "cell_type": "code",
      "execution_count": null,
      "id": "873d578a",
      "metadata": {
        "id": "873d578a"
      },
      "outputs": [],
      "source": [
        "fig, ax = plt.subplots(1, 2, figsize=(24, 12))\n",
        "\n",
        "tessellation.plot(\"convexity\", ax=ax[0], scheme=\"natural_breaks\", legend=True)\n",
        "streets.plot(\"linearity\", ax=ax[1], scheme=\"natural_breaks\", legend=True)\n",
        "\n",
        "ax[0].set_axis_off()\n",
        "ax[1].set_axis_off()"
      ]
    },
    {
      "cell_type": "markdown",
      "id": "14777fdb",
      "metadata": {
        "id": "14777fdb"
      },
      "source": [
        "### Spatial distribution\n",
        "\n",
        "Measurements of spatial distribution take into account the relations between geometries."
      ]
    },
    {
      "cell_type": "code",
      "execution_count": null,
      "id": "d763242b",
      "metadata": {
        "id": "d763242b"
      },
      "outputs": [],
      "source": [
        "buildings[\"shared_walls\"] = momepy.shared_walls(buildings) / buildings.length\n",
        "buildings.plot(\n",
        "    \"shared_walls\", figsize=(12, 12), scheme=\"natural_breaks\", legend=True\n",
        ").set_axis_off()"
      ]
    },
    {
      "cell_type": "markdown",
      "id": "f4a5988d",
      "metadata": {
        "id": "f4a5988d"
      },
      "source": [
        "In some cases, those relations need to be identified first. Therefore, we need to build a spatial graph (e.g. contiguity) that captures them. Generate spatial graph using `libpysal`."
      ]
    },
    {
      "cell_type": "code",
      "execution_count": null,
      "id": "af8c3d83",
      "metadata": {
        "id": "af8c3d83"
      },
      "outputs": [],
      "source": [
        "queen_1 = libpysal.graph.Graph.build_contiguity(tessellation, rook=False)"
      ]
    },
    {
      "cell_type": "markdown",
      "id": "5ce75b46",
      "metadata": {
        "id": "5ce75b46"
      },
      "source": [
        "You can check how the resulting graph looks like. Even though we have generated it based on tessellation, you can explore it with buildings as the two share the index the graph is encoded by."
      ]
    },
    {
      "cell_type": "code",
      "execution_count": null,
      "id": "f69d20d3",
      "metadata": {
        "id": "f69d20d3"
      },
      "outputs": [],
      "source": [
        "m = buildings.explore(tiles=\"cartodb positron\", prefer_canvas=True)\n",
        "queen_1.explore(buildings, m=m)"
      ]
    },
    {
      "cell_type": "markdown",
      "id": "77a2a32b",
      "metadata": {
        "id": "77a2a32b"
      },
      "source": [
        "This allows us to measure variables where relation beyond intersection plays a role."
      ]
    },
    {
      "cell_type": "code",
      "execution_count": null,
      "id": "df404d5e",
      "metadata": {
        "id": "df404d5e"
      },
      "outputs": [],
      "source": [
        "tessellation[\"neighbors\"] = momepy.neighbors(tessellation, queen_1, weighted=True)\n",
        "tessellation[\"covered_area\"] = queen_1.describe(tessellation.area)[\"sum\"]\n",
        "buildings[\"neighbor_distance\"] = momepy.neighbor_distance(buildings, queen_1)"
      ]
    },
    {
      "cell_type": "code",
      "execution_count": null,
      "id": "02696132",
      "metadata": {
        "id": "02696132"
      },
      "outputs": [],
      "source": [
        "fig, ax = plt.subplots(1, 2, figsize=(24, 12))\n",
        "\n",
        "buildings.plot(\"neighbor_distance\", ax=ax[0], scheme=\"natural_breaks\", legend=True)\n",
        "tessellation.plot(\"covered_area\", ax=ax[1], scheme=\"natural_breaks\", legend=True)\n",
        "\n",
        "ax[0].set_axis_off()\n",
        "ax[1].set_axis_off()"
      ]
    },
    {
      "cell_type": "markdown",
      "id": "7d0fca8f",
      "metadata": {
        "id": "7d0fca8f"
      },
      "source": [
        "To capture a wider context, you can define it as higher order contiguity (or KNN, distance...)."
      ]
    },
    {
      "cell_type": "code",
      "execution_count": null,
      "id": "2d84b743",
      "metadata": {
        "id": "2d84b743"
      },
      "outputs": [],
      "source": [
        "queen_3 = queen_1.higher_order(3)\n",
        "buildings_q1 = libpysal.graph.Graph.build_contiguity(buildings, rook=False)"
      ]
    },
    {
      "cell_type": "markdown",
      "id": "4058cd5f",
      "metadata": {
        "id": "4058cd5f"
      },
      "source": [
        "We have generated higher order contiguity and Queen contiguity on buidings. Check how it differs from the one generated on tessellation."
      ]
    },
    {
      "cell_type": "code",
      "execution_count": null,
      "id": "7456385e",
      "metadata": {
        "id": "7456385e"
      },
      "outputs": [],
      "source": [
        "m = buildings.explore(tiles=\"cartodb positron\", prefer_canvas=True)\n",
        "buildings_q1.explore(buildings, m=m)"
      ]
    },
    {
      "cell_type": "markdown",
      "id": "6611fa73",
      "metadata": {
        "id": "6611fa73"
      },
      "source": [
        "Combining the two graphs, we can measure more complex spatial relations."
      ]
    },
    {
      "cell_type": "code",
      "execution_count": null,
      "id": "a6737191",
      "metadata": {
        "id": "a6737191"
      },
      "outputs": [],
      "source": [
        "buildings[\"interbuilding_distance\"] = momepy.mean_interbuilding_distance(\n",
        "    buildings, queen_1, queen_3\n",
        ")\n",
        "buildings[\"adjacency\"] = momepy.building_adjacency(buildings_q1, queen_3)"
      ]
    },
    {
      "cell_type": "code",
      "execution_count": null,
      "id": "c8d8d8bb",
      "metadata": {
        "id": "c8d8d8bb"
      },
      "outputs": [],
      "source": [
        "fig, ax = plt.subplots(1, 2, figsize=(24, 12))\n",
        "\n",
        "buildings.plot(\"interbuilding_distance\", ax=ax[0], scheme=\"natural_breaks\", legend=True)\n",
        "buildings.plot(\"adjacency\", ax=ax[1], scheme=\"natural_breaks\", legend=True)\n",
        "\n",
        "ax[0].set_axis_off()\n",
        "ax[1].set_axis_off()"
      ]
    },
    {
      "cell_type": "markdown",
      "id": "8c4b8eba",
      "metadata": {
        "id": "8c4b8eba"
      },
      "source": [
        "Considering streets and buildings together allows us to measure street profile."
      ]
    },
    {
      "cell_type": "code",
      "execution_count": null,
      "id": "51ebb171",
      "metadata": {
        "id": "51ebb171"
      },
      "outputs": [],
      "source": [
        "profile = momepy.street_profile(streets, buildings)\n",
        "streets[profile.columns] = profile"
      ]
    },
    {
      "cell_type": "code",
      "execution_count": null,
      "id": "5b36abf8",
      "metadata": {
        "id": "5b36abf8"
      },
      "outputs": [],
      "source": [
        "fig, ax = plt.subplots(1, 3, figsize=(24, 12))\n",
        "\n",
        "streets.plot(\"width\", ax=ax[0], scheme=\"natural_breaks\", legend=True)\n",
        "streets.plot(\"width_deviation\", ax=ax[1], scheme=\"natural_breaks\", legend=True)\n",
        "streets.plot(\"openness\", ax=ax[2], scheme=\"natural_breaks\", legend=True)\n",
        "\n",
        "ax[0].set_axis_off()\n",
        "ax[1].set_axis_off()\n",
        "ax[2].set_axis_off()"
      ]
    },
    {
      "cell_type": "markdown",
      "id": "02f12808",
      "metadata": {
        "id": "02f12808"
      },
      "source": [
        "### Intensity\n",
        "\n",
        "Density of development can be measured without momepy as a simple ratio of area of buildings to that of tessellation cells."
      ]
    },
    {
      "cell_type": "code",
      "execution_count": null,
      "id": "06f94fef",
      "metadata": {
        "id": "06f94fef"
      },
      "outputs": [],
      "source": [
        "tessellation[\"car\"] = buildings.area / tessellation.area\n",
        "tessellation.plot(\"car\", figsize=(12, 12), vmin=0, vmax=1, legend=True).set_axis_off()"
      ]
    },
    {
      "cell_type": "markdown",
      "id": "bf0d01ca",
      "metadata": {
        "id": "bf0d01ca"
      },
      "source": [
        "### Connectivity\n",
        "\n",
        "Another way of looking at urban form is through its street network."
      ]
    },
    {
      "cell_type": "code",
      "execution_count": null,
      "id": "a990951b",
      "metadata": {
        "id": "a990951b"
      },
      "outputs": [],
      "source": [
        "graph = momepy.gdf_to_nx(streets)\n",
        "graph = momepy.node_degree(graph)\n",
        "graph = momepy.closeness_centrality(graph, radius=400, distance=\"mm_len\")\n",
        "graph = momepy.meshedness(graph, radius=400, distance=\"mm_len\")\n",
        "nodes, edges = momepy.nx_to_gdf(graph)"
      ]
    },
    {
      "cell_type": "code",
      "execution_count": null,
      "id": "f48a0c29",
      "metadata": {
        "id": "f48a0c29"
      },
      "outputs": [],
      "source": [
        "fig, ax = plt.subplots(1, 3, figsize=(24, 12))\n",
        "\n",
        "nodes.plot(\"degree\", ax=ax[0], scheme=\"natural_breaks\", legend=True, markersize=1)\n",
        "nodes.plot(\n",
        "    \"closeness\",\n",
        "    ax=ax[1],\n",
        "    scheme=\"natural_breaks\",\n",
        "    legend=True,\n",
        "    markersize=1,\n",
        "    legend_kwds={\"fmt\": \"{:.6f}\"},\n",
        ")\n",
        "nodes.plot(\"meshedness\", ax=ax[2], scheme=\"natural_breaks\", legend=True, markersize=1)\n",
        "\n",
        "ax[0].set_axis_off()\n",
        "ax[1].set_axis_off()\n",
        "ax[2].set_axis_off()"
      ]
    },
    {
      "cell_type": "markdown",
      "id": "2190f57d",
      "metadata": {
        "id": "2190f57d"
      },
      "source": [
        "Link the streets and nodes to buildings to transfer the values."
      ]
    },
    {
      "cell_type": "code",
      "execution_count": null,
      "id": "56736ced",
      "metadata": {
        "id": "56736ced"
      },
      "outputs": [],
      "source": [
        "buildings[\"edge_index\"] = momepy.get_nearest_street(buildings, edges)\n",
        "buildings[\"node_index\"] = momepy.get_nearest_node(\n",
        "    buildings, nodes, edges, buildings[\"edge_index\"]\n",
        ")"
      ]
    },
    {
      "cell_type": "markdown",
      "id": "fb8576e3",
      "metadata": {
        "id": "fb8576e3"
      },
      "source": [
        "Link all data together (to tessellation cells or buildings)."
      ]
    },
    {
      "cell_type": "code",
      "execution_count": null,
      "id": "930373ae",
      "metadata": {
        "id": "930373ae"
      },
      "outputs": [],
      "source": [
        "buildings[tessellation.columns.drop([\"geometry\", \"street_index\"])] = tessellation.drop(\n",
        "    columns=[\"geometry\", \"street_index\"]\n",
        ")\n",
        "merged = buildings.merge(\n",
        "    edges.drop(columns=\"geometry\"),\n",
        "    left_on=\"edge_index\",\n",
        "    right_index=True,\n",
        "    how=\"left\",\n",
        ")\n",
        "merged = merged.merge(\n",
        "    nodes.drop(columns=[\"geometry\", \"x\", \"y\"]),\n",
        "    left_on=\"node_index\",\n",
        "    right_index=True,\n",
        "    how=\"left\",\n",
        ")"
      ]
    },
    {
      "cell_type": "markdown",
      "id": "59e28c82",
      "metadata": {
        "id": "59e28c82"
      },
      "source": [
        "## Understanding the context\n",
        "\n",
        "Measure first, second and third quartile of distribution of values within an area around each building."
      ]
    },
    {
      "cell_type": "code",
      "execution_count": null,
      "id": "dcd2fa6c",
      "metadata": {
        "id": "dcd2fa6c"
      },
      "outputs": [],
      "source": [
        "percentiles = []\n",
        "for column in merged.columns.drop(\n",
        "    [\n",
        "        \"street_index\",\n",
        "        \"node_index\",\n",
        "        \"edge_index\",\n",
        "        \"nodeID\",\n",
        "        \"mm_len\",\n",
        "        \"node_start\",\n",
        "        \"node_end\",\n",
        "        \"geometry\",\n",
        "    ]\n",
        "):\n",
        "    perc = momepy.percentile(merged[column], queen_3)\n",
        "    perc.columns = [f\"{column}_\" + str(x) for x in perc.columns]\n",
        "    percentiles.append(perc)"
      ]
    },
    {
      "cell_type": "markdown",
      "id": "66674613",
      "metadata": {
        "id": "66674613"
      },
      "source": [
        "Merge all together."
      ]
    },
    {
      "cell_type": "code",
      "execution_count": null,
      "id": "6605ac32",
      "metadata": {
        "id": "6605ac32"
      },
      "outputs": [],
      "source": [
        "percentiles_joined = pandas.concat(percentiles, axis=1)\n",
        "percentiles_joined.head()"
      ]
    },
    {
      "cell_type": "markdown",
      "id": "dd1e1aae",
      "metadata": {
        "id": "dd1e1aae"
      },
      "source": [
        "See the difference between original convexity and spatially lagged one."
      ]
    },
    {
      "cell_type": "code",
      "execution_count": null,
      "id": "d7a451b6",
      "metadata": {
        "id": "d7a451b6"
      },
      "outputs": [],
      "source": [
        "fig, ax = plt.subplots(1, 2, figsize=(24, 12))\n",
        "\n",
        "buildings.plot(\"convexity\", ax=ax[0], scheme=\"natural_breaks\", legend=True)\n",
        "merged.plot(\n",
        "    percentiles_joined[\"convexity_50\"].values,\n",
        "    ax=ax[1],\n",
        "    scheme=\"natural_breaks\",\n",
        "    legend=True,\n",
        ")\n",
        "\n",
        "ax[0].set_axis_off()\n",
        "ax[1].set_axis_off()"
      ]
    },
    {
      "cell_type": "markdown",
      "id": "da530395",
      "metadata": {
        "id": "da530395"
      },
      "source": [
        "## Clustering\n",
        "\n",
        "Now we can use obtained values within a cluster analysis that should detect types of urban structure.\n",
        "\n",
        "Standardize values before clustering."
      ]
    },
    {
      "cell_type": "code",
      "execution_count": null,
      "id": "7ea4fa05",
      "metadata": {
        "id": "7ea4fa05"
      },
      "outputs": [],
      "source": [
        "standardized = (\n",
        "    percentiles_joined - percentiles_joined.mean()\n",
        ") / percentiles_joined.std()\n",
        "standardized.head()"
      ]
    },
    {
      "cell_type": "markdown",
      "id": "d750ea27",
      "metadata": {
        "id": "d750ea27"
      },
      "source": [
        "### How many clusters?\n",
        "\n",
        "To determine how many clusters we should aim for, we can use a little package called `clustergram`. See its [documentation](https://clustergram.readthedocs.io) for details."
      ]
    },
    {
      "cell_type": "code",
      "execution_count": null,
      "id": "35e4d78f",
      "metadata": {
        "id": "35e4d78f"
      },
      "outputs": [],
      "source": [
        "cgram = Clustergram(range(1, 12), random_state=456, n_init=10)\n",
        "cgram.fit(standardized.fillna(0))\n",
        "\n",
        "show(cgram.bokeh())"
      ]
    },
    {
      "cell_type": "markdown",
      "id": "18a389b3",
      "metadata": {
        "id": "18a389b3"
      },
      "source": [
        "Clustegram gives us also the final labels. (Normally, you would run the final clustering on much larger number of initialisations.)"
      ]
    },
    {
      "cell_type": "code",
      "execution_count": null,
      "id": "ef66c0b2",
      "metadata": {
        "id": "ef66c0b2"
      },
      "outputs": [],
      "source": [
        "cgram.labels.head()"
      ]
    },
    {
      "cell_type": "markdown",
      "id": "d59a0c75",
      "metadata": {
        "id": "d59a0c75"
      },
      "source": [
        "The first stable split seems to be 5."
      ]
    },
    {
      "cell_type": "code",
      "execution_count": null,
      "id": "cdef76b6",
      "metadata": {
        "id": "cdef76b6"
      },
      "outputs": [],
      "source": [
        "merged[\"cluster\"] = cgram.labels[5].values\n",
        "buildings[\"cluster\"] = merged[\"cluster\"]\n",
        "buildings.plot(\n",
        "    \"cluster\", categorical=True, figsize=(16, 16), legend=True\n",
        ").set_axis_off()"
      ]
    },
    {
      "cell_type": "markdown",
      "id": "b9bd1b04",
      "metadata": {
        "id": "b9bd1b04"
      },
      "source": [
        "We can check when the city centre splits form the row houses."
      ]
    },
    {
      "cell_type": "code",
      "execution_count": null,
      "id": "c55ba4d9",
      "metadata": {
        "id": "c55ba4d9"
      },
      "outputs": [],
      "source": [
        "merged[\"cluster\"] = cgram.labels[8].values\n",
        "buildings[\"cluster\"] = merged[\"cluster\"]\n",
        "buildings.plot(\n",
        "    \"cluster\", categorical=True, figsize=(16, 16), legend=True\n",
        ").set_axis_off()"
      ]
    },
    {
      "cell_type": "markdown",
      "id": "afb63471",
      "metadata": {
        "id": "afb63471"
      },
      "source": [
        "## Prediction\n",
        "\n",
        "Another application of this type of morphological data is prediction as morphology has power to predict certain urban phenomena. In this case, let's try to predict the index of multiple deprivation."
      ]
    },
    {
      "cell_type": "code",
      "execution_count": null,
      "id": "23652e5b",
      "metadata": {
        "id": "23652e5b"
      },
      "outputs": [],
      "source": [
        "imd = geopandas.read_file(\"https://github.com/martinfleis/gisruk2025/raw/refs/heads/main/imd.gpkg\").set_index(\"lsoa11cd\")\n",
        "imd.head()"
      ]
    },
    {
      "cell_type": "markdown",
      "id": "a0bdc740",
      "metadata": {
        "id": "a0bdc740"
      },
      "source": [
        "Let's focus on the most commonly reported value - rank."
      ]
    },
    {
      "cell_type": "code",
      "execution_count": null,
      "id": "47875d1c",
      "metadata": {
        "id": "47875d1c"
      },
      "outputs": [],
      "source": [
        "imd.explore(\"IMDRank0\", tiles=\"cartodb positron\")"
      ]
    },
    {
      "cell_type": "markdown",
      "id": "51843d24",
      "metadata": {
        "id": "51843d24"
      },
      "source": [
        "We want to aggregate morphological data to LSOA. Get the LSOA ID on every building."
      ]
    },
    {
      "cell_type": "code",
      "execution_count": null,
      "id": "0975be42",
      "metadata": {
        "id": "0975be42"
      },
      "outputs": [],
      "source": [
        "merged = merged.sjoin(imd[[\"geometry\"]], how=\"left\")"
      ]
    },
    {
      "cell_type": "markdown",
      "id": "72f022b9",
      "metadata": {
        "id": "72f022b9"
      },
      "source": [
        "And group the data by LSOA, retrieving mean."
      ]
    },
    {
      "cell_type": "code",
      "execution_count": null,
      "id": "e3f3f5da",
      "metadata": {
        "id": "e3f3f5da"
      },
      "outputs": [],
      "source": [
        "grouper = merged.drop(\n",
        "    columns=[\n",
        "        \"street_index\",\n",
        "        \"node_index\",\n",
        "        \"edge_index\",\n",
        "        \"nodeID\",\n",
        "        \"mm_len\",\n",
        "        \"node_start\",\n",
        "        \"node_end\",\n",
        "        \"geometry\",\n",
        "    ]\n",
        ").groupby(\"lsoa11cd\")\n",
        "lsoa_mean = grouper.mean()"
      ]
    },
    {
      "cell_type": "markdown",
      "id": "b93c4122",
      "metadata": {
        "id": "b93c4122"
      },
      "source": [
        "This can be used as explanatory variables within a predictive model. We'll stick to simple linear regression, so standardization is due."
      ]
    },
    {
      "cell_type": "code",
      "execution_count": null,
      "id": "779edc44",
      "metadata": {
        "id": "779edc44"
      },
      "outputs": [],
      "source": [
        "standardized = (lsoa_mean - lsoa_mean.mean()) / lsoa_mean.std()"
      ]
    },
    {
      "cell_type": "markdown",
      "id": "827e9209",
      "metadata": {
        "id": "827e9209"
      },
      "source": [
        "Train the model."
      ]
    },
    {
      "cell_type": "code",
      "execution_count": null,
      "id": "75aa4a32",
      "metadata": {
        "id": "75aa4a32"
      },
      "outputs": [],
      "source": [
        "lr = LinearRegression()\n",
        "lr.fit(standardized, imd.IMDRank0)"
      ]
    },
    {
      "cell_type": "markdown",
      "id": "b8629b22",
      "metadata": {
        "id": "b8629b22"
      },
      "source": [
        "We don't have to do train/test split as we are using regression (can't remember values as random forest might). So the performance can be measured directly on all of the data."
      ]
    },
    {
      "cell_type": "code",
      "execution_count": null,
      "id": "21b821f8",
      "metadata": {
        "id": "21b821f8"
      },
      "outputs": [],
      "source": [
        "lr.score(standardized, imd.IMDRank0)"
      ]
    },
    {
      "cell_type": "markdown",
      "id": "71affaa6",
      "metadata": {
        "id": "71affaa6"
      },
      "source": [
        "$R^2$ of 0.77 is not bad considering we have measured just a small subset of morphometrics. Let's compare the prediction to the expected outcome."
      ]
    },
    {
      "cell_type": "code",
      "execution_count": null,
      "id": "f05cad27",
      "metadata": {
        "id": "f05cad27"
      },
      "outputs": [],
      "source": [
        "prediction = lr.predict(standardized)\n",
        "residuals = imd.IMDRank0 - prediction"
      ]
    },
    {
      "cell_type": "code",
      "execution_count": null,
      "id": "d6410083",
      "metadata": {
        "id": "d6410083"
      },
      "outputs": [],
      "source": [
        "fig, ax = plt.subplots(1, 3, figsize=(20, 12))\n",
        "\n",
        "max_red = residuals.abs().max()\n",
        "\n",
        "imd.plot(\n",
        "    \"IMDRank0\",\n",
        "    legend=True,\n",
        "    ax=ax[0],\n",
        "    vmin=0,\n",
        "    vmax=36000,\n",
        "    legend_kwds={\"shrink\": 0.5, \"orientation\": \"horizontal\"},\n",
        ")\n",
        "imd.plot(\n",
        "    prediction,\n",
        "    legend=True,\n",
        "    ax=ax[1],\n",
        "    vmin=0,\n",
        "    vmax=36000,\n",
        "    legend_kwds={\"shrink\": 0.5, \"orientation\": \"horizontal\"},\n",
        ")\n",
        "imd.plot(\n",
        "    residuals,\n",
        "    vmin=-max_red,\n",
        "    vmax=max_red,\n",
        "    cmap=\"RdBu\",\n",
        "    legend=True,\n",
        "    ax=ax[2],\n",
        "    legend_kwds={\"shrink\": 0.5, \"orientation\": \"horizontal\"},\n",
        ")\n",
        "\n",
        "ax[0].set_axis_off()\n",
        "ax[1].set_axis_off()\n",
        "ax[2].set_axis_off()\n",
        "\n",
        "ax[0].set_title(\"IMDRank0\")\n",
        "ax[1].set_title(\"Predicted IMDRank0\")\n",
        "ax[2].set_title(\"Residuals\")"
      ]
    },
    {
      "cell_type": "markdown",
      "id": "e456f967",
      "metadata": {
        "id": "e456f967"
      },
      "source": [
        "It seems that the largest residuals are in areas which are next to those we predicted well. That may indicate spatial dependency in our data. Let's use it in our favour by including a spatial lag of our variables in the model. Build the contiguity graph."
      ]
    },
    {
      "cell_type": "code",
      "execution_count": null,
      "id": "fff9f6f1",
      "metadata": {
        "id": "fff9f6f1"
      },
      "outputs": [],
      "source": [
        "queen_lsoa = libpysal.graph.Graph.build_contiguity(imd, rook=False)"
      ]
    },
    {
      "cell_type": "code",
      "execution_count": null,
      "id": "7207bf09",
      "metadata": {
        "id": "7207bf09"
      },
      "outputs": [],
      "source": [
        "m = imd.explore(tiles='cartodb positron')\n",
        "queen_lsoa.explore(imd, m=m)"
      ]
    },
    {
      "cell_type": "markdown",
      "id": "47941740",
      "metadata": {
        "id": "47941740"
      },
      "source": [
        "Measure lags for all of the variables."
      ]
    },
    {
      "cell_type": "code",
      "execution_count": null,
      "id": "e747c7fc",
      "metadata": {
        "id": "e747c7fc"
      },
      "outputs": [],
      "source": [
        "lags = {}\n",
        "for col in standardized.columns:\n",
        "    lags[f\"{col}_lag\"] = queen_lsoa.lag(standardized[col])\n",
        "\n",
        "data_with_lag = pd.concat(\n",
        "    [standardized, pd.DataFrame(lags, index=standardized.index)], axis=1\n",
        ")"
      ]
    },
    {
      "cell_type": "markdown",
      "id": "221c135e",
      "metadata": {
        "id": "221c135e"
      },
      "source": [
        "And fit a new model that includes lagged variables alongside original."
      ]
    },
    {
      "cell_type": "code",
      "execution_count": null,
      "id": "cd7c3245",
      "metadata": {
        "id": "cd7c3245"
      },
      "outputs": [],
      "source": [
        "lr_lag = LinearRegression()\n",
        "lr_lag.fit(data_with_lag, imd.IMDRank0)"
      ]
    },
    {
      "cell_type": "markdown",
      "id": "95da8366",
      "metadata": {
        "id": "95da8366"
      },
      "source": [
        "See the performance."
      ]
    },
    {
      "cell_type": "code",
      "execution_count": null,
      "id": "8fad09bb",
      "metadata": {
        "id": "8fad09bb"
      },
      "outputs": [],
      "source": [
        "lr_lag.score(data_with_lag, imd.IMDRank0)"
      ]
    },
    {
      "cell_type": "markdown",
      "id": "638eb9fe",
      "metadata": {
        "id": "638eb9fe"
      },
      "source": [
        "0.9 is quite an improvement :). Let's visualise it, using the same color maps as above."
      ]
    },
    {
      "cell_type": "code",
      "execution_count": null,
      "id": "af73dbd5",
      "metadata": {
        "id": "af73dbd5"
      },
      "outputs": [],
      "source": [
        "prediction_lag = lr_lag.predict(data_with_lag)\n",
        "residuals_lag = imd.IMDRank0 - prediction_lag"
      ]
    },
    {
      "cell_type": "code",
      "execution_count": null,
      "id": "f288e596",
      "metadata": {
        "id": "f288e596"
      },
      "outputs": [],
      "source": [
        "fig, ax = plt.subplots(1, 3, figsize=(20, 12))\n",
        "\n",
        "imd.plot(\n",
        "    \"IMDRank0\",\n",
        "    legend=True,\n",
        "    ax=ax[0],\n",
        "    vmin=0,\n",
        "    vmax=36000,\n",
        "    legend_kwds={\"shrink\": 0.5, \"orientation\": \"horizontal\"},\n",
        ")\n",
        "imd.plot(\n",
        "    prediction_lag,\n",
        "    legend=True,\n",
        "    ax=ax[1],\n",
        "    vmin=0,\n",
        "    vmax=36000,\n",
        "    legend_kwds={\"shrink\": 0.5, \"orientation\": \"horizontal\"},\n",
        ")\n",
        "imd.plot(\n",
        "    residuals_lag,\n",
        "    vmin=-max_red,\n",
        "    vmax=max_red,\n",
        "    cmap=\"RdBu\",\n",
        "    legend=True,\n",
        "    ax=ax[2],\n",
        "    legend_kwds={\"shrink\": 0.5, \"orientation\": \"horizontal\"},\n",
        ")\n",
        "\n",
        "ax[0].set_axis_off()\n",
        "ax[1].set_axis_off()\n",
        "ax[2].set_axis_off()\n",
        "\n",
        "ax[0].set_title(\"IMDRank0\")\n",
        "ax[1].set_title(\"Predicted IMDRank0 (lagged)\")\n",
        "ax[2].set_title(\"Residuals (lagged)\")"
      ]
    },
    {
      "cell_type": "markdown",
      "id": "b4064815",
      "metadata": {
        "id": "b4064815"
      },
      "source": [
        "## Where to now?\n",
        "\n",
        "I would suggest spending some time in the documentation of [momepy](http://docs.momepy.org/), if you found this interesting."
      ]
    }
  ],
  "metadata": {
    "kernelspec": {
      "display_name": "Python 3 (ipykernel)",
      "language": "python",
      "name": "python3"
    },
    "language_info": {
      "codemirror_mode": {
        "name": "ipython",
        "version": 3
      },
      "file_extension": ".py",
      "mimetype": "text/x-python",
      "name": "python",
      "nbconvert_exporter": "python",
      "pygments_lexer": "ipython3",
      "version": "3.13.3"
    },
    "colab": {
      "provenance": [],
      "include_colab_link": true
    }
  },
  "nbformat": 4,
  "nbformat_minor": 5
}